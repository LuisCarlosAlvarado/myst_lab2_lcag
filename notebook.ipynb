{
 "cells": [
  {
   "cell_type": "markdown",
   "metadata": {},
   "source": [
    "<center><font color=#555555><font size=6> MAF1731 - Microestructura y Sistemas de trading </font> <br> <br>\n",
    "    \n",
    "<center><font color=#555555><font size=5> Ingeniería Financiera </font> <br> <br> <br> <br>\n",
    "\n",
    "<center><font color=#555555><font size=6> \n",
    "                                          I.F. Luis Carlos Alvarado</font> <br> <br>\n",
    "\n",
    "<center> <font color= #555555> <font size = 4> Abril 2022 </a> | <font color= #555555> <font size = 4> Repositorio: <a href='https://github.com/LuisCarlosAlvarado/myst_lab2_lcag'>Link</a></font>"
   ]
  },
  {
   "cell_type": "markdown",
   "metadata": {},
   "source": [
    "<hr style=\"border:0.02in solid gray\"> </hr>"
   ]
  },
  {
   "cell_type": "markdown",
   "metadata": {},
   "source": [
    "<center> <font color= #555555> <font size = 6> Lab 2 </font> <br> <br> <font color= #555555> <font size = 5> Trading Algorítmico  </font>"
   ]
  },
  {
   "cell_type": "markdown",
   "metadata": {},
   "source": [
    "<font color= #555555> <font size = 4> Abstract </font>"
   ]
  },
  {
   "cell_type": "markdown",
   "metadata": {},
   "source": [
    "<font color= #6B6B6B> <font size = 3> En este proyecto se creará un sistema de trading, que permita al usuario optimizar la estrategia para escoger la que tenga una mayor o menor función de utilidad (dependiendo el caso).   </font>"
   ]
  },
  {
   "cell_type": "markdown",
   "metadata": {},
   "source": [
    "# <font color= #6B6B6B> <font size = 6> 1. Introducción </font>"
   ]
  },
  {
   "cell_type": "markdown",
   "metadata": {},
   "source": [
    "<hr style=\"border:0.02in solid gray\"> </hr>\n"
   ]
  },
  {
   "cell_type": "markdown",
   "metadata": {},
   "source": [
    "<font color= #6B6B6B> <font size = 3>Usando el broker online FXCM, obtendremos información del símbolo de nuestra preferencia, para poder aplicar técnicas de trading.<br><br>\n",
    "    \n",
    "<font color= #6B6B6B> <font size = 3>El primer paso es descargar información y dividirla en los siguientes periodos.<br><br>\n",
    "\n",
    "<font color= #6B6B6B> \n",
    "A) Pre-pandemia: 31-01-2018 a 31-01-2020.<br>\n",
    "B) En-pandemia-1: 28-02-2020 a 31-03-2021<br>\n",
    "C) En-pandemia-2: 01-04-2021 a 31-12-2021<br>\n",
    "\n",
    "<font color= #6B6B6B> <font size = 3>Ahora, para definir un sistema de trading necesitamos de 4 criterios:\n",
    "1) Criterio de uso de datos<br>\n",
    "En este caso, utilizaremos el par \"BTC/USD\" con temporalidad de 4 horas (debido a que el servidor no deja descargar más datos), y utilizaremos los \"Adj. Open\" y \"Adj. Close\", dependiendo de la situación.<br><br>\n",
    "2) Criterio de generación de señales<br>\n",
    "Se calcularán 2 promedios móviles exponenciales (EMA), uno de longitud corta, y otro de longitud más larga que el anterior. La señal de compra se dará cuando el EMA corto cruce hacia arriba al EMA largo y la de venta cuando lo cruce hacia abajo.<br>\n",
    "La lógica detrás de esta técnica nos dice que, cuando EMA corto cruza hacia arriba, significa que la tendencia en el corto plazo está cambiando de direción respecto a la del largo plazo, es este caso, la tendencia es alcista, por eso escogemos esta sencilla técnica.<br><br>\n",
    "3) Criterio de toma de pérdidas y ganancias<br>\n",
    "Take profit: Será el momento en el que cerremos la operación con un rendimiento positivo.<br>\n",
    "Stop loss: Será el momento en el que cerremos la operación con un rendimiento negativo, lo hacemos para no arriesgar el capital.<br><br>\n",
    "4) Criterio de dimensionamiento de posiciones<br>\n",
    "Se utilizará todo el capital disponible para esta técnica, y únicamente entraremos a operaciones en largo, es decir, de compra.\n",
    "<br><br>\n"
   ]
  },
  {
   "cell_type": "code",
   "execution_count": 1,
   "metadata": {},
   "outputs": [],
   "source": [
    "import time\n",
    "inicio = time.time()"
   ]
  },
  {
   "cell_type": "code",
   "execution_count": 2,
   "metadata": {},
   "outputs": [],
   "source": [
    "import system_desing as sd\n",
    "import system_optimization as so\n",
    "import functions as fn\n",
    "#import data as dt\n",
    "import pandas as pd\n",
    "import numpy as np\n",
    "import matplotlib.pyplot as plt"
   ]
  },
  {
   "cell_type": "markdown",
   "metadata": {},
   "source": [
    "Se realiza un gráfico del histórico de los precios para comprobar que han sido descargados correctamente.<br>\n",
    "### GRÁFICO 1"
   ]
  },
  {
   "cell_type": "code",
   "execution_count": 3,
   "metadata": {},
   "outputs": [
    {
     "data": {
      "image/png": "[encoded data removed]",
      "text/plain": [
       "<Figure size 432x288 with 1 Axes>"
      ]
     },
     "metadata": {
      "needs_background": "light"
     },
     "output_type": "display_data"
    }
   ],
   "source": [
    "plt.plot(sd.data_ohlc['close'])\n",
    "plt.title(\"BTC/USD\")\n",
    "plt.xlabel(\"Días\")\n",
    "plt.ylabel(\"Precios\")\n",
    "plt.show()"
   ]
  },
  {
   "cell_type": "markdown",
   "metadata": {},
   "source": [
    "La primera prueba del proceso de trading se hará con parámetros al azar, y observaremos como se comporta la técnica sin ningún tipo de optimización."
   ]
  },
  {
   "cell_type": "code",
   "execution_count": 4,
   "metadata": {},
   "outputs": [],
   "source": [
    "proceso_prueba = sd.proceso_completo(sd.train_ohlc['close'], sd.train_ohlc['open'], .001,\\\n",
    "                short_length=13, long_length=36, take_profit=.01, stop_loss=-.01, capital=20000)\n",
    "operaciones_prueba= proceso_prueba[2]\n",
    "rend_operacion_prueba = proceso_prueba[3]\n",
    "rendimiento_prueba = proceso_prueba[4]\n",
    "flujo_prueba = proceso_prueba[5]"
   ]
  },
  {
   "cell_type": "markdown",
   "metadata": {},
   "source": [
    "Este es un DataFrame con los rendimientos obtenidos por algunas operaciones de la prueba."
   ]
  },
  {
   "cell_type": "code",
   "execution_count": 5,
   "metadata": {},
   "outputs": [
    {
     "data": {
      "text/html": [
       "<div>\n",
       "<style scoped>\n",
       "    .dataframe tbody tr th:only-of-type {\n",
       "        vertical-align: middle;\n",
       "    }\n",
       "\n",
       "    .dataframe tbody tr th {\n",
       "        vertical-align: top;\n",
       "    }\n",
       "\n",
       "    .dataframe thead th {\n",
       "        text-align: right;\n",
       "    }\n",
       "</style>\n",
       "<table border=\"1\" class=\"dataframe\">\n",
       "  <thead>\n",
       "    <tr style=\"text-align: right;\">\n",
       "      <th></th>\n",
       "      <th>0</th>\n",
       "    </tr>\n",
       "  </thead>\n",
       "  <tbody>\n",
       "    <tr>\n",
       "      <th>0</th>\n",
       "      <td>-0.015641</td>\n",
       "    </tr>\n",
       "    <tr>\n",
       "      <th>1</th>\n",
       "      <td>-0.016357</td>\n",
       "    </tr>\n",
       "    <tr>\n",
       "      <th>2</th>\n",
       "      <td>0.011442</td>\n",
       "    </tr>\n",
       "    <tr>\n",
       "      <th>3</th>\n",
       "      <td>0.021649</td>\n",
       "    </tr>\n",
       "    <tr>\n",
       "      <th>4</th>\n",
       "      <td>0.076623</td>\n",
       "    </tr>\n",
       "  </tbody>\n",
       "</table>\n",
       "</div>"
      ],
      "text/plain": [
       "          0\n",
       "0 -0.015641\n",
       "1 -0.016357\n",
       "2  0.011442\n",
       "3  0.021649\n",
       "4  0.076623"
      ]
     },
     "execution_count": 5,
     "metadata": {},
     "output_type": "execute_result"
    }
   ],
   "source": [
    "pd.DataFrame(rendimiento_prueba).head()"
   ]
  },
  {
   "cell_type": "markdown",
   "metadata": {},
   "source": [
    "Y así se movió el flujo durante el periodo de entrenamiento sin ninguna optimización.<br>\n",
    "### GRÁFICO 2"
   ]
  },
  {
   "cell_type": "code",
   "execution_count": 6,
   "metadata": {},
   "outputs": [
    {
     "data": {
      "image/png": "[encoded data removed]",
      "text/plain": [
       "<Figure size 432x288 with 1 Axes>"
      ]
     },
     "metadata": {
      "needs_background": "light"
     },
     "output_type": "display_data"
    }
   ],
   "source": [
    "plt.plot(flujo_prueba)\n",
    "plt.title(\"Flujo capital sin optimización\")\n",
    "plt.xlabel(\"Operaciones\")\n",
    "plt.ylabel(\"Precios\")\n",
    "plt.show()"
   ]
  },
  {
   "cell_type": "markdown",
   "metadata": {},
   "source": [
    "# <font color= #6B6B6B> <font size = 6> 2. Proceso </font>"
   ]
  },
  {
   "cell_type": "markdown",
   "metadata": {},
   "source": [
    "<hr style=\"border:0.02in solid gray\"> </hr>"
   ]
  },
  {
   "cell_type": "markdown",
   "metadata": {},
   "source": [
    "Lo que se busca optimizar con este código es el rendimiento final, la intención es maximizarlo, por lo que el dato que tenga un mayor flujo al final del periodo, será considerado el óptimo.<br><br>\n",
    "\n",
    "Los parámetros a optimizar son los siguientes:<br><br>\n",
    "\n",
    "Parámetro: 1<br>\n",
    "Nombre: Longitud de EMA corta<br>\n",
    "Descripción: Longitud del promedio móvil exponencial corto, que cruzando hacia arriba nos dará señal de compra.<br>\n",
    "Tipo de valor: numérico<br>\n",
    "Rango de valores: 1 - 15<br>\n",
    "Tamaño de paso mínimo: 1<br><br>\n",
    "\n",
    "Parámetro: 2<br>\n",
    "Nombre: Longitud de EMA largo<br>\n",
    "Descripción: Longitud del promedio móvil exponencial larfo, que cruzando hacia abajo nos dará señal de compra.<br>\n",
    "Tipo de valor: numérico<br>\n",
    "Rango de valores: 1 - 15<br>\n",
    "Tamaño de paso mínimo: 1<br><br>\n",
    "\n",
    "Parámetro: 3<br>\n",
    "Nombre: Take profit<br>\n",
    "Descripción: Rendimiento positivo con el que abandonamos la operación sin esperar una señal de venta.<br>\n",
    "Tipo de valor: numérico<br>\n",
    "Rango de valores: $2.5\\%$ - $5\\%$<br>\n",
    "Tamaño de paso mínimo: $.5\\%$<br><br>\n",
    "\n",
    "Parámetro: 4<br>\n",
    "Nombre: Stop loss<br>\n",
    "Descripción: Rendimiento negativo con el que abandonamos la operación sin esperar una señal de venta.<br>\n",
    "Tipo de valor: numérico<br>\n",
    "Rango de valores: $-.5\\%$ - $-2.5\\%$<br>\n",
    "Tamaño de paso mínimo: $-.5\\%$ <br><br>"
   ]
  },
  {
   "cell_type": "markdown",
   "metadata": {},
   "source": [
    "El rendimiento máximo obtenido fue de:"
   ]
  },
  {
   "cell_type": "code",
   "execution_count": 7,
   "metadata": {},
   "outputs": [
    {
     "data": {
      "text/plain": [
       "[1.167918260568169]"
      ]
     },
     "execution_count": 7,
     "metadata": {},
     "output_type": "execute_result"
    }
   ],
   "source": [
    "so.rend_max"
   ]
  },
  {
   "cell_type": "markdown",
   "metadata": {},
   "source": [
    "Y los parámetros fueron los siguientes:<br>\n",
    "Short length : 1<br>\n",
    "Long length : 17<br>\n",
    "Take profit : $3\\%$<br>\n",
    "Stop loss : $-2\\%$"
   ]
  },
  {
   "cell_type": "code",
   "execution_count": 8,
   "metadata": {},
   "outputs": [
    {
     "data": {
      "text/plain": [
       "[1, 17, 0.030000000000000002, -0.02]"
      ]
     },
     "execution_count": 8,
     "metadata": {},
     "output_type": "execute_result"
    }
   ],
   "source": [
    "so.parametros"
   ]
  },
  {
   "cell_type": "markdown",
   "metadata": {},
   "source": [
    "Se obtienen flujos y rendimientos del periodo de entrenamiento pero ahora con los parámetros óptimos"
   ]
  },
  {
   "cell_type": "code",
   "execution_count": 9,
   "metadata": {},
   "outputs": [],
   "source": [
    "proceso_train = sd.proceso_completo(sd.data_ohlc['close'], sd.data_ohlc['open'], .001,\\\n",
    "                short_length=so.parametros[0], long_length=so.parametros[1],\\\n",
    "                take_profit=so.parametros[2], stop_loss=so.parametros[3], capital=20000)\n",
    "operaciones_train= proceso_train[2]\n",
    "rend_operacion_train = proceso_train[3]\n",
    "rendimiento_train = proceso_train[4]\n",
    "flujo_train = proceso_train[5]"
   ]
  },
  {
   "cell_type": "markdown",
   "metadata": {},
   "source": [
    "Movimiento del capital en el periodo.\n",
    "### Gráfico 3"
   ]
  },
  {
   "cell_type": "code",
   "execution_count": 10,
   "metadata": {},
   "outputs": [
    {
     "data": {
      "image/png": "[encoded data removed]",
      "text/plain": [
       "<Figure size 432x288 with 1 Axes>"
      ]
     },
     "metadata": {
      "needs_background": "light"
     },
     "output_type": "display_data"
    }
   ],
   "source": [
    "plt.plot(flujo_train)\n",
    "plt.title(\"Flujo capital periodo entrenamiento\")\n",
    "plt.xlabel(\"Operaciones\")\n",
    "plt.ylabel(\"Precios\")\n",
    "plt.show()"
   ]
  },
  {
   "cell_type": "markdown",
   "metadata": {},
   "source": [
    "Pips de la divisa con la que se está trabajando."
   ]
  },
  {
   "cell_type": "code",
   "execution_count": 11,
   "metadata": {},
   "outputs": [
    {
     "data": {
      "text/plain": [
       "0.01"
      ]
     },
     "execution_count": 11,
     "metadata": {},
     "output_type": "execute_result"
    }
   ],
   "source": [
    "fn.f_pip_size(\"btc/USD\")"
   ]
  },
  {
   "cell_type": "markdown",
   "metadata": {},
   "source": [
    "Duración de cada operación en el periodo."
   ]
  },
  {
   "cell_type": "code",
   "execution_count": 12,
   "metadata": {},
   "outputs": [
    {
     "data": {
      "text/html": [
       "<div>\n",
       "<style scoped>\n",
       "    .dataframe tbody tr th:only-of-type {\n",
       "        vertical-align: middle;\n",
       "    }\n",
       "\n",
       "    .dataframe tbody tr th {\n",
       "        vertical-align: top;\n",
       "    }\n",
       "\n",
       "    .dataframe thead th {\n",
       "        text-align: right;\n",
       "    }\n",
       "</style>\n",
       "<table border=\"1\" class=\"dataframe\">\n",
       "  <thead>\n",
       "    <tr style=\"text-align: right;\">\n",
       "      <th></th>\n",
       "      <th>Tiempo</th>\n",
       "    </tr>\n",
       "    <tr>\n",
       "      <th># Operación</th>\n",
       "      <th></th>\n",
       "    </tr>\n",
       "  </thead>\n",
       "  <tbody>\n",
       "    <tr>\n",
       "      <th>0</th>\n",
       "      <td>3 days</td>\n",
       "    </tr>\n",
       "    <tr>\n",
       "      <th>1</th>\n",
       "      <td>3 days</td>\n",
       "    </tr>\n",
       "    <tr>\n",
       "      <th>2</th>\n",
       "      <td>5 days</td>\n",
       "    </tr>\n",
       "    <tr>\n",
       "      <th>3</th>\n",
       "      <td>1 days</td>\n",
       "    </tr>\n",
       "    <tr>\n",
       "      <th>4</th>\n",
       "      <td>4 days</td>\n",
       "    </tr>\n",
       "  </tbody>\n",
       "</table>\n",
       "</div>"
      ],
      "text/plain": [
       "            Tiempo\n",
       "# Operación       \n",
       "0           3 days\n",
       "1           3 days\n",
       "2           5 days\n",
       "3           1 days\n",
       "4           4 days"
      ]
     },
     "execution_count": 12,
     "metadata": {},
     "output_type": "execute_result"
    }
   ],
   "source": [
    "columnas_tiempos = fn.columnas_tiempos(rend_individual = rend_operacion_train, operaciones=operaciones_train, \\\n",
    "                    take_profit = so.parametros[2], stop_loss = so.parametros[3])\n",
    "columnas_tiempos.head()"
   ]
  },
  {
   "cell_type": "markdown",
   "metadata": {},
   "source": [
    "Profit y pips del periodo, así como la suma acumulada de los mismos, podemos ver que al final del periodo el valor acumulado es positivo."
   ]
  },
  {
   "cell_type": "code",
   "execution_count": 13,
   "metadata": {},
   "outputs": [
    {
     "data": {
      "text/html": [
       "<div>\n",
       "<style scoped>\n",
       "    .dataframe tbody tr th:only-of-type {\n",
       "        vertical-align: middle;\n",
       "    }\n",
       "\n",
       "    .dataframe tbody tr th {\n",
       "        vertical-align: top;\n",
       "    }\n",
       "\n",
       "    .dataframe thead th {\n",
       "        text-align: right;\n",
       "    }\n",
       "</style>\n",
       "<table border=\"1\" class=\"dataframe\">\n",
       "  <thead>\n",
       "    <tr style=\"text-align: right;\">\n",
       "      <th></th>\n",
       "      <th>Profit</th>\n",
       "      <th>Pips</th>\n",
       "      <th>Profit_acum</th>\n",
       "      <th>Pip_acum</th>\n",
       "    </tr>\n",
       "  </thead>\n",
       "  <tbody>\n",
       "    <tr>\n",
       "      <th>0</th>\n",
       "      <td>0.055139</td>\n",
       "      <td>0.000551</td>\n",
       "      <td>0.055139</td>\n",
       "      <td>0.000551</td>\n",
       "    </tr>\n",
       "    <tr>\n",
       "      <th>1</th>\n",
       "      <td>0.054243</td>\n",
       "      <td>-0.000009</td>\n",
       "      <td>0.109382</td>\n",
       "      <td>0.000542</td>\n",
       "    </tr>\n",
       "    <tr>\n",
       "      <th>2</th>\n",
       "      <td>0.038587</td>\n",
       "      <td>-0.000157</td>\n",
       "      <td>0.147968</td>\n",
       "      <td>0.000386</td>\n",
       "    </tr>\n",
       "    <tr>\n",
       "      <th>3</th>\n",
       "      <td>0.084415</td>\n",
       "      <td>0.000458</td>\n",
       "      <td>0.232384</td>\n",
       "      <td>0.000844</td>\n",
       "    </tr>\n",
       "    <tr>\n",
       "      <th>4</th>\n",
       "      <td>0.054322</td>\n",
       "      <td>-0.000301</td>\n",
       "      <td>0.286706</td>\n",
       "      <td>0.000543</td>\n",
       "    </tr>\n",
       "  </tbody>\n",
       "</table>\n",
       "</div>"
      ],
      "text/plain": [
       "     Profit      Pips  Profit_acum  Pip_acum\n",
       "0  0.055139  0.000551     0.055139  0.000551\n",
       "1  0.054243 -0.000009     0.109382  0.000542\n",
       "2  0.038587 -0.000157     0.147968  0.000386\n",
       "3  0.084415  0.000458     0.232384  0.000844\n",
       "4  0.054322 -0.000301     0.286706  0.000543"
      ]
     },
     "execution_count": 13,
     "metadata": {},
     "output_type": "execute_result"
    }
   ],
   "source": [
    "columnas_pips = fn.f_columnas_pips(pips = fn.f_pip_size(\"btc/USD\"), rendimiento=rendimiento_train)\n",
    "columnas_pips.head()"
   ]
  },
  {
   "cell_type": "markdown",
   "metadata": {},
   "source": [
    "Estadísticas sobre las operaciones realizadas en el periodo."
   ]
  },
  {
   "cell_type": "code",
   "execution_count": 14,
   "metadata": {},
   "outputs": [
    {
     "data": {
      "text/html": [
       "<div>\n",
       "<style scoped>\n",
       "    .dataframe tbody tr th:only-of-type {\n",
       "        vertical-align: middle;\n",
       "    }\n",
       "\n",
       "    .dataframe tbody tr th {\n",
       "        vertical-align: top;\n",
       "    }\n",
       "\n",
       "    .dataframe thead th {\n",
       "        text-align: right;\n",
       "    }\n",
       "</style>\n",
       "<table border=\"1\" class=\"dataframe\">\n",
       "  <thead>\n",
       "    <tr style=\"text-align: right;\">\n",
       "      <th></th>\n",
       "      <th>Medida</th>\n",
       "      <th>Valor</th>\n",
       "      <th>Descripción</th>\n",
       "    </tr>\n",
       "  </thead>\n",
       "  <tbody>\n",
       "    <tr>\n",
       "      <th>0</th>\n",
       "      <td>Op_totales</td>\n",
       "      <td>80</td>\n",
       "      <td>Operaciones totales</td>\n",
       "    </tr>\n",
       "    <tr>\n",
       "      <th>1</th>\n",
       "      <td>Ganadoras</td>\n",
       "      <td>36</td>\n",
       "      <td>Operaciones ganadoras</td>\n",
       "    </tr>\n",
       "    <tr>\n",
       "      <th>2</th>\n",
       "      <td>Perdedoras</td>\n",
       "      <td>44</td>\n",
       "      <td>Operaciones perdedoras</td>\n",
       "    </tr>\n",
       "    <tr>\n",
       "      <th>3</th>\n",
       "      <td>Mediana (Profit)</td>\n",
       "      <td>-0.005814</td>\n",
       "      <td>Mediana de profit de operaciones</td>\n",
       "    </tr>\n",
       "    <tr>\n",
       "      <th>4</th>\n",
       "      <td>Mediana (Pips)</td>\n",
       "      <td>0.000033</td>\n",
       "      <td>Mediana de pips de operaciones</td>\n",
       "    </tr>\n",
       "    <tr>\n",
       "      <th>5</th>\n",
       "      <td>R. efectividad</td>\n",
       "      <td>0.45</td>\n",
       "      <td>Ganadoras Totales/Operaciones Totales</td>\n",
       "    </tr>\n",
       "    <tr>\n",
       "      <th>6</th>\n",
       "      <td>R. proporción</td>\n",
       "      <td>0.818182</td>\n",
       "      <td>Ganadoras Totales/Perdedoras Totales</td>\n",
       "    </tr>\n",
       "  </tbody>\n",
       "</table>\n",
       "</div>"
      ],
      "text/plain": [
       "             Medida     Valor                            Descripción\n",
       "0        Op_totales        80                    Operaciones totales\n",
       "1         Ganadoras        36                  Operaciones ganadoras\n",
       "2        Perdedoras        44                 Operaciones perdedoras\n",
       "3  Mediana (Profit) -0.005814       Mediana de profit de operaciones\n",
       "4    Mediana (Pips)  0.000033         Mediana de pips de operaciones\n",
       "5    R. efectividad      0.45  Ganadoras Totales/Operaciones Totales\n",
       "6     R. proporción  0.818182   Ganadoras Totales/Perdedoras Totales"
      ]
     },
     "execution_count": 14,
     "metadata": {},
     "output_type": "execute_result"
    }
   ],
   "source": [
    "fn.f_estadísticas_ba(rendimiento_train, operaciones_train, \"df_1_tabla\")"
   ]
  },
  {
   "cell_type": "markdown",
   "metadata": {},
   "source": [
    "Estadísticas sobre los días con mejor rendimiento de operaciones positivas."
   ]
  },
  {
   "cell_type": "code",
   "execution_count": 15,
   "metadata": {},
   "outputs": [
    {
     "data": {
      "text/html": [
       "<div>\n",
       "<style scoped>\n",
       "    .dataframe tbody tr th:only-of-type {\n",
       "        vertical-align: middle;\n",
       "    }\n",
       "\n",
       "    .dataframe tbody tr th {\n",
       "        vertical-align: top;\n",
       "    }\n",
       "\n",
       "    .dataframe thead th {\n",
       "        text-align: right;\n",
       "    }\n",
       "</style>\n",
       "<table border=\"1\" class=\"dataframe\">\n",
       "  <thead>\n",
       "    <tr style=\"text-align: right;\">\n",
       "      <th></th>\n",
       "      <th>Rank %</th>\n",
       "    </tr>\n",
       "    <tr>\n",
       "      <th>Día</th>\n",
       "      <th></th>\n",
       "    </tr>\n",
       "  </thead>\n",
       "  <tbody>\n",
       "    <tr>\n",
       "      <th>Saturday</th>\n",
       "      <td>53.33</td>\n",
       "    </tr>\n",
       "    <tr>\n",
       "      <th>Friday</th>\n",
       "      <td>53.85</td>\n",
       "    </tr>\n",
       "    <tr>\n",
       "      <th>Wednesday</th>\n",
       "      <td>50.00</td>\n",
       "    </tr>\n",
       "    <tr>\n",
       "      <th>Thursday</th>\n",
       "      <td>46.15</td>\n",
       "    </tr>\n",
       "    <tr>\n",
       "      <th>Tuesday</th>\n",
       "      <td>38.46</td>\n",
       "    </tr>\n",
       "    <tr>\n",
       "      <th>Monday</th>\n",
       "      <td>22.22</td>\n",
       "    </tr>\n",
       "    <tr>\n",
       "      <th>Sunday</th>\n",
       "      <td>40.00</td>\n",
       "    </tr>\n",
       "  </tbody>\n",
       "</table>\n",
       "</div>"
      ],
      "text/plain": [
       "           Rank %\n",
       "Día              \n",
       "Saturday    53.33\n",
       "Friday      53.85\n",
       "Wednesday   50.00\n",
       "Thursday    46.15\n",
       "Tuesday     38.46\n",
       "Monday      22.22\n",
       "Sunday      40.00"
      ]
     },
     "execution_count": 15,
     "metadata": {},
     "output_type": "execute_result"
    }
   ],
   "source": [
    "fn.f_estadísticas_ba(rendimiento_train, operaciones_train, \"df_2_ranking\")"
   ]
  },
  {
   "cell_type": "markdown",
   "metadata": {},
   "source": [
    "Evolución del capital durante el periodo, es el gráfico 3 desglozado."
   ]
  },
  {
   "cell_type": "code",
   "execution_count": 16,
   "metadata": {},
   "outputs": [
    {
     "data": {
      "text/html": [
       "<div>\n",
       "<style scoped>\n",
       "    .dataframe tbody tr th:only-of-type {\n",
       "        vertical-align: middle;\n",
       "    }\n",
       "\n",
       "    .dataframe tbody tr th {\n",
       "        vertical-align: top;\n",
       "    }\n",
       "\n",
       "    .dataframe thead th {\n",
       "        text-align: right;\n",
       "    }\n",
       "</style>\n",
       "<table border=\"1\" class=\"dataframe\">\n",
       "  <thead>\n",
       "    <tr style=\"text-align: right;\">\n",
       "      <th></th>\n",
       "      <th>timestamp</th>\n",
       "      <th>Profit_d</th>\n",
       "      <th>Profit_acum_d</th>\n",
       "    </tr>\n",
       "  </thead>\n",
       "  <tbody>\n",
       "    <tr>\n",
       "      <th>727</th>\n",
       "      <td>2020-01-28 00:00:00</td>\n",
       "      <td>0.035664</td>\n",
       "      <td>43358.365211</td>\n",
       "    </tr>\n",
       "    <tr>\n",
       "      <th>728</th>\n",
       "      <td>2020-01-29 00:00:00</td>\n",
       "      <td>0.0</td>\n",
       "      <td>44904.718614</td>\n",
       "    </tr>\n",
       "    <tr>\n",
       "      <th>729</th>\n",
       "      <td>2020-01-30 00:00:00</td>\n",
       "      <td>0.0</td>\n",
       "      <td>44904.718614</td>\n",
       "    </tr>\n",
       "    <tr>\n",
       "      <th>730</th>\n",
       "      <td>2020-01-31 00:00:00</td>\n",
       "      <td>0.0</td>\n",
       "      <td>44904.718614</td>\n",
       "    </tr>\n",
       "    <tr>\n",
       "      <th>731</th>\n",
       "      <td>0.0</td>\n",
       "      <td>0.0</td>\n",
       "      <td>44904.718614</td>\n",
       "    </tr>\n",
       "  </tbody>\n",
       "</table>\n",
       "</div>"
      ],
      "text/plain": [
       "               timestamp  Profit_d Profit_acum_d\n",
       "727  2020-01-28 00:00:00  0.035664  43358.365211\n",
       "728  2020-01-29 00:00:00       0.0  44904.718614\n",
       "729  2020-01-30 00:00:00       0.0  44904.718614\n",
       "730  2020-01-31 00:00:00       0.0  44904.718614\n",
       "731                  0.0       0.0  44904.718614"
      ]
     },
     "execution_count": 16,
     "metadata": {},
     "output_type": "execute_result"
    }
   ],
   "source": [
    "evolucion_capital = fn.f_evolucion_capital(sd.train_ohlc['close'], operaciones_train, rend_operacion_train,\\\n",
    "                                     take_profit=so.parametros[2], stop_loss=so.parametros[3],\\\n",
    "                                        capital =20000, rendimiento= rendimiento_train)\n",
    "evolucion_capital.tail()"
   ]
  },
  {
   "cell_type": "markdown",
   "metadata": {},
   "source": [
    "Se calculó:<br>\n",
    "Sharpe Ratio = $\\frac{Rend - R_f}{\\sigma Rend}$<br>\n",
    "Drawdown = Máxima minusvalía registrada durante el periodo.<br>\n",
    "Drawup = Máxima plusvalía registrada durante el periodo.<br><br>\n",
    "\n",
    "Con estos elementos nos podemos dar cuenta si el riesgo valió la pena."
   ]
  },
  {
   "cell_type": "code",
   "execution_count": 17,
   "metadata": {},
   "outputs": [
    {
     "data": {
      "text/html": [
       "<div>\n",
       "<style scoped>\n",
       "    .dataframe tbody tr th:only-of-type {\n",
       "        vertical-align: middle;\n",
       "    }\n",
       "\n",
       "    .dataframe tbody tr th {\n",
       "        vertical-align: top;\n",
       "    }\n",
       "\n",
       "    .dataframe thead th {\n",
       "        text-align: right;\n",
       "    }\n",
       "</style>\n",
       "<table border=\"1\" class=\"dataframe\">\n",
       "  <thead>\n",
       "    <tr style=\"text-align: right;\">\n",
       "      <th></th>\n",
       "      <th>0</th>\n",
       "      <th>1</th>\n",
       "    </tr>\n",
       "  </thead>\n",
       "  <tbody>\n",
       "    <tr>\n",
       "      <th>0</th>\n",
       "      <td>Sharpe Ratio Original</td>\n",
       "      <td>-4.06433</td>\n",
       "    </tr>\n",
       "    <tr>\n",
       "      <th>1</th>\n",
       "      <td>Sharpe Ratio Actualizado</td>\n",
       "      <td>0</td>\n",
       "    </tr>\n",
       "    <tr>\n",
       "      <th>2</th>\n",
       "      <td>DrawDown</td>\n",
       "      <td>-0.074602</td>\n",
       "    </tr>\n",
       "    <tr>\n",
       "      <th>3</th>\n",
       "      <td>DrawUp</td>\n",
       "      <td>0.176344</td>\n",
       "    </tr>\n",
       "  </tbody>\n",
       "</table>\n",
       "</div>"
      ],
      "text/plain": [
       "                          0         1\n",
       "0     Sharpe Ratio Original  -4.06433\n",
       "1  Sharpe Ratio Actualizado         0\n",
       "2                  DrawDown -0.074602\n",
       "3                    DrawUp  0.176344"
      ]
     },
     "execution_count": 17,
     "metadata": {},
     "output_type": "execute_result"
    }
   ],
   "source": [
    "fn.f_estadisticas_mad(evolucion_capital)"
   ]
  },
  {
   "cell_type": "markdown",
   "metadata": {},
   "source": [
    "A continuación se realizará exactamente el mismo proceso, ahora en los periodos de validación y prueba, al final se dará una conclusión"
   ]
  },
  {
   "cell_type": "code",
   "execution_count": 18,
   "metadata": {},
   "outputs": [],
   "source": [
    "proceso_val = sd.proceso_completo(sd.val_ohlc['close'], sd.val_ohlc['open'], .001,\\\n",
    "                short_length=so.parametros[0], long_length=so.parametros[1],\\\n",
    "                take_profit=so.parametros[2], stop_loss=so.parametros[3], capital=20000)\n",
    "operaciones_val= proceso_val[2]\n",
    "rend_operacion_val = proceso_val[3]\n",
    "rendimiento_val = proceso_val[4]\n",
    "flujo_val = proceso_val[5]"
   ]
  },
  {
   "cell_type": "markdown",
   "metadata": {},
   "source": [
    "### Gráfico 4"
   ]
  },
  {
   "cell_type": "code",
   "execution_count": 19,
   "metadata": {},
   "outputs": [
    {
     "data": {
      "image/png": "[encoded data removed]",
      "text/plain": [
       "<Figure size 432x288 with 1 Axes>"
      ]
     },
     "metadata": {
      "needs_background": "light"
     },
     "output_type": "display_data"
    }
   ],
   "source": [
    "plt.plot(flujo_val)\n",
    "plt.title(\"Flujo capital periodo validación\")\n",
    "plt.xlabel(\"Operaciones\")\n",
    "plt.ylabel(\"Precios\")\n",
    "plt.show()"
   ]
  },
  {
   "cell_type": "code",
   "execution_count": 20,
   "metadata": {},
   "outputs": [
    {
     "data": {
      "text/html": [
       "<div>\n",
       "<style scoped>\n",
       "    .dataframe tbody tr th:only-of-type {\n",
       "        vertical-align: middle;\n",
       "    }\n",
       "\n",
       "    .dataframe tbody tr th {\n",
       "        vertical-align: top;\n",
       "    }\n",
       "\n",
       "    .dataframe thead th {\n",
       "        text-align: right;\n",
       "    }\n",
       "</style>\n",
       "<table border=\"1\" class=\"dataframe\">\n",
       "  <thead>\n",
       "    <tr style=\"text-align: right;\">\n",
       "      <th></th>\n",
       "      <th>Tiempo</th>\n",
       "    </tr>\n",
       "    <tr>\n",
       "      <th># Operación</th>\n",
       "      <th></th>\n",
       "    </tr>\n",
       "  </thead>\n",
       "  <tbody>\n",
       "    <tr>\n",
       "      <th>0</th>\n",
       "      <td>1 days</td>\n",
       "    </tr>\n",
       "    <tr>\n",
       "      <th>1</th>\n",
       "      <td>1 days</td>\n",
       "    </tr>\n",
       "  </tbody>\n",
       "</table>\n",
       "</div>"
      ],
      "text/plain": [
       "            Tiempo\n",
       "# Operación       \n",
       "0           1 days\n",
       "1           1 days"
      ]
     },
     "execution_count": 20,
     "metadata": {},
     "output_type": "execute_result"
    }
   ],
   "source": [
    "columnas_tiempos = fn.columnas_tiempos(rend_individual = rend_operacion_val, operaciones=operaciones_val, \\\n",
    "                    take_profit = so.parametros[2], stop_loss = so.parametros[3])\n",
    "columnas_tiempos.head()"
   ]
  },
  {
   "cell_type": "code",
   "execution_count": 21,
   "metadata": {},
   "outputs": [
    {
     "data": {
      "text/html": [
       "<div>\n",
       "<style scoped>\n",
       "    .dataframe tbody tr th:only-of-type {\n",
       "        vertical-align: middle;\n",
       "    }\n",
       "\n",
       "    .dataframe tbody tr th {\n",
       "        vertical-align: top;\n",
       "    }\n",
       "\n",
       "    .dataframe thead th {\n",
       "        text-align: right;\n",
       "    }\n",
       "</style>\n",
       "<table border=\"1\" class=\"dataframe\">\n",
       "  <thead>\n",
       "    <tr style=\"text-align: right;\">\n",
       "      <th></th>\n",
       "      <th>Profit</th>\n",
       "      <th>Pips</th>\n",
       "      <th>Profit_acum</th>\n",
       "      <th>Pip_acum</th>\n",
       "    </tr>\n",
       "  </thead>\n",
       "  <tbody>\n",
       "    <tr>\n",
       "      <th>0</th>\n",
       "      <td>-0.051868</td>\n",
       "      <td>-0.000519</td>\n",
       "      <td>-0.051868</td>\n",
       "      <td>-0.000519</td>\n",
       "    </tr>\n",
       "    <tr>\n",
       "      <th>1</th>\n",
       "      <td>-0.025113</td>\n",
       "      <td>0.000268</td>\n",
       "      <td>-0.076981</td>\n",
       "      <td>-0.000251</td>\n",
       "    </tr>\n",
       "  </tbody>\n",
       "</table>\n",
       "</div>"
      ],
      "text/plain": [
       "     Profit      Pips  Profit_acum  Pip_acum\n",
       "0 -0.051868 -0.000519    -0.051868 -0.000519\n",
       "1 -0.025113  0.000268    -0.076981 -0.000251"
      ]
     },
     "execution_count": 21,
     "metadata": {},
     "output_type": "execute_result"
    }
   ],
   "source": [
    "columnas_pips = fn.f_columnas_pips(pips = fn.f_pip_size(\"btc/USD\"), rendimiento=rendimiento_val)\n",
    "columnas_pips.head()"
   ]
  },
  {
   "cell_type": "code",
   "execution_count": 22,
   "metadata": {},
   "outputs": [
    {
     "data": {
      "text/html": [
       "<div>\n",
       "<style scoped>\n",
       "    .dataframe tbody tr th:only-of-type {\n",
       "        vertical-align: middle;\n",
       "    }\n",
       "\n",
       "    .dataframe tbody tr th {\n",
       "        vertical-align: top;\n",
       "    }\n",
       "\n",
       "    .dataframe thead th {\n",
       "        text-align: right;\n",
       "    }\n",
       "</style>\n",
       "<table border=\"1\" class=\"dataframe\">\n",
       "  <thead>\n",
       "    <tr style=\"text-align: right;\">\n",
       "      <th></th>\n",
       "      <th>timestamp</th>\n",
       "      <th>Profit_d</th>\n",
       "      <th>Profit_acum_d</th>\n",
       "    </tr>\n",
       "  </thead>\n",
       "  <tbody>\n",
       "    <tr>\n",
       "      <th>55</th>\n",
       "      <td>2021-03-28 00:00:00</td>\n",
       "      <td>0.0</td>\n",
       "      <td>18486.428021</td>\n",
       "    </tr>\n",
       "    <tr>\n",
       "      <th>56</th>\n",
       "      <td>2021-03-29 00:00:00</td>\n",
       "      <td>0.0</td>\n",
       "      <td>18486.428021</td>\n",
       "    </tr>\n",
       "    <tr>\n",
       "      <th>57</th>\n",
       "      <td>2021-03-30 00:00:00</td>\n",
       "      <td>0.0</td>\n",
       "      <td>18486.428021</td>\n",
       "    </tr>\n",
       "    <tr>\n",
       "      <th>58</th>\n",
       "      <td>2021-03-31 00:00:00</td>\n",
       "      <td>0.0</td>\n",
       "      <td>18486.428021</td>\n",
       "    </tr>\n",
       "    <tr>\n",
       "      <th>59</th>\n",
       "      <td>0.0</td>\n",
       "      <td>0.0</td>\n",
       "      <td>18486.428021</td>\n",
       "    </tr>\n",
       "  </tbody>\n",
       "</table>\n",
       "</div>"
      ],
      "text/plain": [
       "              timestamp Profit_d Profit_acum_d\n",
       "55  2021-03-28 00:00:00      0.0  18486.428021\n",
       "56  2021-03-29 00:00:00      0.0  18486.428021\n",
       "57  2021-03-30 00:00:00      0.0  18486.428021\n",
       "58  2021-03-31 00:00:00      0.0  18486.428021\n",
       "59                  0.0      0.0  18486.428021"
      ]
     },
     "execution_count": 22,
     "metadata": {},
     "output_type": "execute_result"
    }
   ],
   "source": [
    "evolucion_capital = fn.f_evolucion_capital(sd.val_ohlc['close'], operaciones_val, rend_operacion_val,\\\n",
    "                                     take_profit=so.parametros[2], stop_loss=so.parametros[3],\\\n",
    "                                        capital =20000, rendimiento= rendimiento_val)\n",
    "evolucion_capital.tail()"
   ]
  },
  {
   "cell_type": "code",
   "execution_count": 23,
   "metadata": {},
   "outputs": [
    {
     "data": {
      "text/html": [
       "<div>\n",
       "<style scoped>\n",
       "    .dataframe tbody tr th:only-of-type {\n",
       "        vertical-align: middle;\n",
       "    }\n",
       "\n",
       "    .dataframe tbody tr th {\n",
       "        vertical-align: top;\n",
       "    }\n",
       "\n",
       "    .dataframe thead th {\n",
       "        text-align: right;\n",
       "    }\n",
       "</style>\n",
       "<table border=\"1\" class=\"dataframe\">\n",
       "  <thead>\n",
       "    <tr style=\"text-align: right;\">\n",
       "      <th></th>\n",
       "      <th>0</th>\n",
       "      <th>1</th>\n",
       "    </tr>\n",
       "  </thead>\n",
       "  <tbody>\n",
       "    <tr>\n",
       "      <th>0</th>\n",
       "      <td>Sharpe Ratio Original</td>\n",
       "      <td>-6.836001</td>\n",
       "    </tr>\n",
       "    <tr>\n",
       "      <th>1</th>\n",
       "      <td>Sharpe Ratio Actualizado</td>\n",
       "      <td>0</td>\n",
       "    </tr>\n",
       "    <tr>\n",
       "      <th>2</th>\n",
       "      <td>DrawDown</td>\n",
       "      <td>-0.053262</td>\n",
       "    </tr>\n",
       "    <tr>\n",
       "      <th>3</th>\n",
       "      <td>DrawUp</td>\n",
       "      <td>0.0</td>\n",
       "    </tr>\n",
       "  </tbody>\n",
       "</table>\n",
       "</div>"
      ],
      "text/plain": [
       "                          0         1\n",
       "0     Sharpe Ratio Original -6.836001\n",
       "1  Sharpe Ratio Actualizado         0\n",
       "2                  DrawDown -0.053262\n",
       "3                    DrawUp       0.0"
      ]
     },
     "execution_count": 23,
     "metadata": {},
     "output_type": "execute_result"
    }
   ],
   "source": [
    "fn.f_estadisticas_mad(evolucion_capital)"
   ]
  },
  {
   "cell_type": "code",
   "execution_count": 24,
   "metadata": {},
   "outputs": [],
   "source": [
    "proceso_test = sd.proceso_completo(sd.test_ohlc['close'], sd.test_ohlc['open'], .001,\\\n",
    "                short_length=so.parametros[0], long_length=so.parametros[1],\\\n",
    "                take_profit=so.parametros[2], stop_loss=so.parametros[3], capital=20000)\n",
    "operaciones_test= proceso_test[2]\n",
    "rend_operacion_test = proceso_test[3]\n",
    "rendimiento_test = proceso_test[4]\n",
    "flujo_test = proceso_test[5]"
   ]
  },
  {
   "cell_type": "markdown",
   "metadata": {},
   "source": [
    "### Gráfico 5"
   ]
  },
  {
   "cell_type": "code",
   "execution_count": 25,
   "metadata": {},
   "outputs": [
    {
     "data": {
      "image/png": "[encoded data removed]",
      "text/plain": [
       "<Figure size 432x288 with 1 Axes>"
      ]
     },
     "metadata": {
      "needs_background": "light"
     },
     "output_type": "display_data"
    }
   ],
   "source": [
    "plt.plot(flujo_test)\n",
    "plt.title(\"Flujo capital periodo prueba\")\n",
    "plt.xlabel(\"Operaciones\")\n",
    "plt.ylabel(\"Precios\")\n",
    "plt.show()"
   ]
  },
  {
   "cell_type": "code",
   "execution_count": 26,
   "metadata": {},
   "outputs": [
    {
     "data": {
      "text/html": [
       "<div>\n",
       "<style scoped>\n",
       "    .dataframe tbody tr th:only-of-type {\n",
       "        vertical-align: middle;\n",
       "    }\n",
       "\n",
       "    .dataframe tbody tr th {\n",
       "        vertical-align: top;\n",
       "    }\n",
       "\n",
       "    .dataframe thead th {\n",
       "        text-align: right;\n",
       "    }\n",
       "</style>\n",
       "<table border=\"1\" class=\"dataframe\">\n",
       "  <thead>\n",
       "    <tr style=\"text-align: right;\">\n",
       "      <th></th>\n",
       "      <th>Tiempo</th>\n",
       "    </tr>\n",
       "    <tr>\n",
       "      <th># Operación</th>\n",
       "      <th></th>\n",
       "    </tr>\n",
       "  </thead>\n",
       "  <tbody>\n",
       "    <tr>\n",
       "      <th>0</th>\n",
       "      <td>4 days</td>\n",
       "    </tr>\n",
       "    <tr>\n",
       "      <th>1</th>\n",
       "      <td>5 days</td>\n",
       "    </tr>\n",
       "    <tr>\n",
       "      <th>2</th>\n",
       "      <td>1 days</td>\n",
       "    </tr>\n",
       "    <tr>\n",
       "      <th>3</th>\n",
       "      <td>1 days</td>\n",
       "    </tr>\n",
       "    <tr>\n",
       "      <th>4</th>\n",
       "      <td>1 days</td>\n",
       "    </tr>\n",
       "  </tbody>\n",
       "</table>\n",
       "</div>"
      ],
      "text/plain": [
       "            Tiempo\n",
       "# Operación       \n",
       "0           4 days\n",
       "1           5 days\n",
       "2           1 days\n",
       "3           1 days\n",
       "4           1 days"
      ]
     },
     "execution_count": 26,
     "metadata": {},
     "output_type": "execute_result"
    }
   ],
   "source": [
    "columnas_tiempos = fn.columnas_tiempos(rend_individual = rend_operacion_test, operaciones=operaciones_test, \\\n",
    "                    take_profit = so.parametros[2], stop_loss = so.parametros[3])\n",
    "columnas_tiempos.head()"
   ]
  },
  {
   "cell_type": "code",
   "execution_count": 27,
   "metadata": {},
   "outputs": [
    {
     "data": {
      "text/html": [
       "<div>\n",
       "<style scoped>\n",
       "    .dataframe tbody tr th:only-of-type {\n",
       "        vertical-align: middle;\n",
       "    }\n",
       "\n",
       "    .dataframe tbody tr th {\n",
       "        vertical-align: top;\n",
       "    }\n",
       "\n",
       "    .dataframe thead th {\n",
       "        text-align: right;\n",
       "    }\n",
       "</style>\n",
       "<table border=\"1\" class=\"dataframe\">\n",
       "  <thead>\n",
       "    <tr style=\"text-align: right;\">\n",
       "      <th></th>\n",
       "      <th>Profit</th>\n",
       "      <th>Pips</th>\n",
       "      <th>Profit_acum</th>\n",
       "      <th>Pip_acum</th>\n",
       "    </tr>\n",
       "  </thead>\n",
       "  <tbody>\n",
       "    <tr>\n",
       "      <th>0</th>\n",
       "      <td>-0.078320</td>\n",
       "      <td>-0.000783</td>\n",
       "      <td>-0.078320</td>\n",
       "      <td>-0.000783</td>\n",
       "    </tr>\n",
       "    <tr>\n",
       "      <th>1</th>\n",
       "      <td>-0.028751</td>\n",
       "      <td>0.000496</td>\n",
       "      <td>-0.107071</td>\n",
       "      <td>-0.000288</td>\n",
       "    </tr>\n",
       "    <tr>\n",
       "      <th>2</th>\n",
       "      <td>-0.124057</td>\n",
       "      <td>-0.000953</td>\n",
       "      <td>-0.231128</td>\n",
       "      <td>-0.001241</td>\n",
       "    </tr>\n",
       "    <tr>\n",
       "      <th>3</th>\n",
       "      <td>-0.048787</td>\n",
       "      <td>0.000753</td>\n",
       "      <td>-0.279914</td>\n",
       "      <td>-0.000488</td>\n",
       "    </tr>\n",
       "    <tr>\n",
       "      <th>4</th>\n",
       "      <td>0.035143</td>\n",
       "      <td>0.000839</td>\n",
       "      <td>-0.244771</td>\n",
       "      <td>0.000351</td>\n",
       "    </tr>\n",
       "  </tbody>\n",
       "</table>\n",
       "</div>"
      ],
      "text/plain": [
       "     Profit      Pips  Profit_acum  Pip_acum\n",
       "0 -0.078320 -0.000783    -0.078320 -0.000783\n",
       "1 -0.028751  0.000496    -0.107071 -0.000288\n",
       "2 -0.124057 -0.000953    -0.231128 -0.001241\n",
       "3 -0.048787  0.000753    -0.279914 -0.000488\n",
       "4  0.035143  0.000839    -0.244771  0.000351"
      ]
     },
     "execution_count": 27,
     "metadata": {},
     "output_type": "execute_result"
    }
   ],
   "source": [
    "columnas_pips = fn.f_columnas_pips(pips = fn.f_pip_size(\"btc/USD\"), rendimiento=rendimiento_test)\n",
    "columnas_pips.head()"
   ]
  },
  {
   "cell_type": "code",
   "execution_count": 28,
   "metadata": {},
   "outputs": [
    {
     "data": {
      "text/html": [
       "<div>\n",
       "<style scoped>\n",
       "    .dataframe tbody tr th:only-of-type {\n",
       "        vertical-align: middle;\n",
       "    }\n",
       "\n",
       "    .dataframe tbody tr th {\n",
       "        vertical-align: top;\n",
       "    }\n",
       "\n",
       "    .dataframe thead th {\n",
       "        text-align: right;\n",
       "    }\n",
       "</style>\n",
       "<table border=\"1\" class=\"dataframe\">\n",
       "  <thead>\n",
       "    <tr style=\"text-align: right;\">\n",
       "      <th></th>\n",
       "      <th>Medida</th>\n",
       "      <th>Valor</th>\n",
       "      <th>Descripción</th>\n",
       "    </tr>\n",
       "  </thead>\n",
       "  <tbody>\n",
       "    <tr>\n",
       "      <th>0</th>\n",
       "      <td>Op_totales</td>\n",
       "      <td>15</td>\n",
       "      <td>Operaciones totales</td>\n",
       "    </tr>\n",
       "    <tr>\n",
       "      <th>1</th>\n",
       "      <td>Ganadoras</td>\n",
       "      <td>5</td>\n",
       "      <td>Operaciones ganadoras</td>\n",
       "    </tr>\n",
       "    <tr>\n",
       "      <th>2</th>\n",
       "      <td>Perdedoras</td>\n",
       "      <td>10</td>\n",
       "      <td>Operaciones perdedoras</td>\n",
       "    </tr>\n",
       "    <tr>\n",
       "      <th>3</th>\n",
       "      <td>Mediana (Profit)</td>\n",
       "      <td>-0.025295</td>\n",
       "      <td>Mediana de profit de operaciones</td>\n",
       "    </tr>\n",
       "    <tr>\n",
       "      <th>4</th>\n",
       "      <td>Mediana (Pips)</td>\n",
       "      <td>-0.000025</td>\n",
       "      <td>Mediana de pips de operaciones</td>\n",
       "    </tr>\n",
       "    <tr>\n",
       "      <th>5</th>\n",
       "      <td>R. efectividad</td>\n",
       "      <td>0.333333</td>\n",
       "      <td>Ganadoras Totales/Operaciones Totales</td>\n",
       "    </tr>\n",
       "    <tr>\n",
       "      <th>6</th>\n",
       "      <td>R. proporción</td>\n",
       "      <td>0.5</td>\n",
       "      <td>Ganadoras Totales/Perdedoras Totales</td>\n",
       "    </tr>\n",
       "  </tbody>\n",
       "</table>\n",
       "</div>"
      ],
      "text/plain": [
       "             Medida     Valor                            Descripción\n",
       "0        Op_totales        15                    Operaciones totales\n",
       "1         Ganadoras         5                  Operaciones ganadoras\n",
       "2        Perdedoras        10                 Operaciones perdedoras\n",
       "3  Mediana (Profit) -0.025295       Mediana de profit de operaciones\n",
       "4    Mediana (Pips) -0.000025         Mediana de pips de operaciones\n",
       "5    R. efectividad  0.333333  Ganadoras Totales/Operaciones Totales\n",
       "6     R. proporción       0.5   Ganadoras Totales/Perdedoras Totales"
      ]
     },
     "execution_count": 28,
     "metadata": {},
     "output_type": "execute_result"
    }
   ],
   "source": [
    "fn.f_estadísticas_ba(rendimiento_test, operaciones_test, \"df_1_tabla\")"
   ]
  },
  {
   "cell_type": "code",
   "execution_count": 29,
   "metadata": {},
   "outputs": [
    {
     "data": {
      "text/html": [
       "<div>\n",
       "<style scoped>\n",
       "    .dataframe tbody tr th:only-of-type {\n",
       "        vertical-align: middle;\n",
       "    }\n",
       "\n",
       "    .dataframe tbody tr th {\n",
       "        vertical-align: top;\n",
       "    }\n",
       "\n",
       "    .dataframe thead th {\n",
       "        text-align: right;\n",
       "    }\n",
       "</style>\n",
       "<table border=\"1\" class=\"dataframe\">\n",
       "  <thead>\n",
       "    <tr style=\"text-align: right;\">\n",
       "      <th></th>\n",
       "      <th>Rank %</th>\n",
       "    </tr>\n",
       "    <tr>\n",
       "      <th>Día</th>\n",
       "      <th></th>\n",
       "    </tr>\n",
       "  </thead>\n",
       "  <tbody>\n",
       "    <tr>\n",
       "      <th>Saturday</th>\n",
       "      <td>50.00</td>\n",
       "    </tr>\n",
       "    <tr>\n",
       "      <th>Monday</th>\n",
       "      <td>33.33</td>\n",
       "    </tr>\n",
       "    <tr>\n",
       "      <th>Thursday</th>\n",
       "      <td>33.33</td>\n",
       "    </tr>\n",
       "    <tr>\n",
       "      <th>Friday</th>\n",
       "      <td>50.00</td>\n",
       "    </tr>\n",
       "    <tr>\n",
       "      <th>Wednesday</th>\n",
       "      <td>0.00</td>\n",
       "    </tr>\n",
       "    <tr>\n",
       "      <th>Sunday</th>\n",
       "      <td>0.00</td>\n",
       "    </tr>\n",
       "  </tbody>\n",
       "</table>\n",
       "</div>"
      ],
      "text/plain": [
       "           Rank %\n",
       "Día              \n",
       "Saturday    50.00\n",
       "Monday      33.33\n",
       "Thursday    33.33\n",
       "Friday      50.00\n",
       "Wednesday    0.00\n",
       "Sunday       0.00"
      ]
     },
     "execution_count": 29,
     "metadata": {},
     "output_type": "execute_result"
    }
   ],
   "source": [
    "fn.f_estadísticas_ba(rendimiento_test, operaciones_test, \"df_2_ranking\")"
   ]
  },
  {
   "cell_type": "code",
   "execution_count": 30,
   "metadata": {},
   "outputs": [
    {
     "data": {
      "text/html": [
       "<div>\n",
       "<style scoped>\n",
       "    .dataframe tbody tr th:only-of-type {\n",
       "        vertical-align: middle;\n",
       "    }\n",
       "\n",
       "    .dataframe tbody tr th {\n",
       "        vertical-align: top;\n",
       "    }\n",
       "\n",
       "    .dataframe thead th {\n",
       "        text-align: right;\n",
       "    }\n",
       "</style>\n",
       "<table border=\"1\" class=\"dataframe\">\n",
       "  <thead>\n",
       "    <tr style=\"text-align: right;\">\n",
       "      <th></th>\n",
       "      <th>timestamp</th>\n",
       "      <th>Profit_d</th>\n",
       "      <th>Profit_acum_d</th>\n",
       "    </tr>\n",
       "  </thead>\n",
       "  <tbody>\n",
       "    <tr>\n",
       "      <th>271</th>\n",
       "      <td>2021-12-28 00:00:00</td>\n",
       "      <td>0.0</td>\n",
       "      <td>16538.474868</td>\n",
       "    </tr>\n",
       "    <tr>\n",
       "      <th>272</th>\n",
       "      <td>2021-12-29 00:00:00</td>\n",
       "      <td>-0.063634</td>\n",
       "      <td>16538.474868</td>\n",
       "    </tr>\n",
       "    <tr>\n",
       "      <th>273</th>\n",
       "      <td>2021-12-30 00:00:00</td>\n",
       "      <td>0.0</td>\n",
       "      <td>15486.067672</td>\n",
       "    </tr>\n",
       "    <tr>\n",
       "      <th>274</th>\n",
       "      <td>2021-12-31 00:00:00</td>\n",
       "      <td>0.0</td>\n",
       "      <td>15486.067672</td>\n",
       "    </tr>\n",
       "    <tr>\n",
       "      <th>275</th>\n",
       "      <td>0.0</td>\n",
       "      <td>0.0</td>\n",
       "      <td>15486.067672</td>\n",
       "    </tr>\n",
       "  </tbody>\n",
       "</table>\n",
       "</div>"
      ],
      "text/plain": [
       "               timestamp  Profit_d Profit_acum_d\n",
       "271  2021-12-28 00:00:00       0.0  16538.474868\n",
       "272  2021-12-29 00:00:00 -0.063634  16538.474868\n",
       "273  2021-12-30 00:00:00       0.0  15486.067672\n",
       "274  2021-12-31 00:00:00       0.0  15486.067672\n",
       "275                  0.0       0.0  15486.067672"
      ]
     },
     "execution_count": 30,
     "metadata": {},
     "output_type": "execute_result"
    }
   ],
   "source": [
    "evolucion_capital = fn.f_evolucion_capital(sd.test_ohlc['close'], operaciones_test, rend_operacion_test,\\\n",
    "                                     take_profit=so.parametros[2], stop_loss=so.parametros[3],\\\n",
    "                                        capital =20000, rendimiento= rendimiento_test)\n",
    "evolucion_capital.tail()"
   ]
  },
  {
   "cell_type": "code",
   "execution_count": 31,
   "metadata": {},
   "outputs": [
    {
     "data": {
      "text/html": [
       "<div>\n",
       "<style scoped>\n",
       "    .dataframe tbody tr th:only-of-type {\n",
       "        vertical-align: middle;\n",
       "    }\n",
       "\n",
       "    .dataframe tbody tr th {\n",
       "        vertical-align: top;\n",
       "    }\n",
       "\n",
       "    .dataframe thead th {\n",
       "        text-align: right;\n",
       "    }\n",
       "</style>\n",
       "<table border=\"1\" class=\"dataframe\">\n",
       "  <thead>\n",
       "    <tr style=\"text-align: right;\">\n",
       "      <th></th>\n",
       "      <th>0</th>\n",
       "      <th>1</th>\n",
       "    </tr>\n",
       "  </thead>\n",
       "  <tbody>\n",
       "    <tr>\n",
       "      <th>0</th>\n",
       "      <td>Sharpe Ratio Original</td>\n",
       "      <td>-3.792428</td>\n",
       "    </tr>\n",
       "    <tr>\n",
       "      <th>1</th>\n",
       "      <td>Sharpe Ratio Actualizado</td>\n",
       "      <td>0</td>\n",
       "    </tr>\n",
       "    <tr>\n",
       "      <th>2</th>\n",
       "      <td>DrawDown</td>\n",
       "      <td>-0.132454</td>\n",
       "    </tr>\n",
       "    <tr>\n",
       "      <th>3</th>\n",
       "      <td>DrawUp</td>\n",
       "      <td>0.066327</td>\n",
       "    </tr>\n",
       "  </tbody>\n",
       "</table>\n",
       "</div>"
      ],
      "text/plain": [
       "                          0         1\n",
       "0     Sharpe Ratio Original -3.792428\n",
       "1  Sharpe Ratio Actualizado         0\n",
       "2                  DrawDown -0.132454\n",
       "3                    DrawUp  0.066327"
      ]
     },
     "execution_count": 31,
     "metadata": {},
     "output_type": "execute_result"
    }
   ],
   "source": [
    "fn.f_estadisticas_mad(evolucion_capital)"
   ]
  },
  {
   "cell_type": "markdown",
   "metadata": {},
   "source": [
    "Número de iteraciones que se realizaron en la optimizacón."
   ]
  },
  {
   "cell_type": "code",
   "execution_count": 32,
   "metadata": {},
   "outputs": [
    {
     "data": {
      "text/plain": [
       "6300"
      ]
     },
     "execution_count": 32,
     "metadata": {},
     "output_type": "execute_result"
    }
   ],
   "source": [
    "fn.metrica_optimizacion(range(1,15), range(15,30), np.arange(.025,.055,.005), np.arange(-.005,-.03,-.005))"
   ]
  },
  {
   "cell_type": "markdown",
   "metadata": {},
   "source": [
    "Tiempo que tardó en correr el código."
   ]
  },
  {
   "cell_type": "code",
   "execution_count": 33,
   "metadata": {},
   "outputs": [
    {
     "name": "stdout",
     "output_type": "stream",
     "text": [
      "El código tarda en correr 5.303676931063334 minutos\n"
     ]
    }
   ],
   "source": [
    "print(\"El código tarda en correr\", (time.time() - inicio)/60, \"minutos\" )"
   ]
  },
  {
   "cell_type": "markdown",
   "metadata": {},
   "source": [
    "# <font color= #6B6B6B> <font size = 6> 3. Conclusión </font>"
   ]
  },
  {
   "cell_type": "markdown",
   "metadata": {},
   "source": [
    "<hr style=\"border:0.02in solid gray\"> </hr>"
   ]
  },
  {
   "cell_type": "markdown",
   "metadata": {},
   "source": [
    "En los periodos de validación y prueba estamos obteniendo rendimientos negativos con los parámetros óptimos, hay que tener en cuenta que el activo con el que se está trabajando ha tenido periodos de crecimientos excesivos, y ese puede ser un motivo por el cuál los parámetros no funcionan para periodos más planos.<br><br>\n",
    "\n",
    "Lo correcto sería ampliar los periodos para realizar un entrenamiento en periodos más \"normales\" en cuanto a las variaciones del precio.<br><br>\n",
    "\n",
    "Esto también demuestra lo irracional que es el mercado de las cryptos, tiene periodos bastante explosivos y después se regulan. Habrá que ampliar la búsqueda para encontrar parámetros que permitan aprovechar cuando el mercado actúa irracional y cuando tiene un comportamiento más adecuado. O bien se podrían aplicar estrategias distintas dependiendo del movimiento del mercado, el detalle ahora sería identificar cuando estos movimientos comiencen."
   ]
  }
 ],
 "metadata": {
  "interpreter": {
   "hash": "4e556f3dfb51aa3f5c6d54fe46fbfc9b0439f21062b585c193eaff5f99de9fa9"
  },
  "kernelspec": {
   "display_name": "Python 3.9.7 ('base')",
   "language": "python",
   "name": "python3"
  },
  "language_info": {
   "codemirror_mode": {
    "name": "ipython",
    "version": 3
   },
   "file_extension": ".py",
   "mimetype": "text/x-python",
   "name": "python",
   "nbconvert_exporter": "python",
   "pygments_lexer": "ipython3",
   "version": "3.9.7"
  },
  "orig_nbformat": 4
 },
 "nbformat": 4,
 "nbformat_minor": 2
}
